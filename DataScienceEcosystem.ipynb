{
 "cells": [
  {
   "cell_type": "markdown",
   "id": "fff1d7c4-ea18-4c3b-b646-d6ece85e6723",
   "metadata": {},
   "source": [
    "# Data Science Tools and Ecosystem"
   ]
  },
  {
   "cell_type": "markdown",
   "id": "56b5aff2-d4a0-43cd-8b00-892a42ce98ae",
   "metadata": {},
   "source": [
    "In this notebook, Data Science Tools and Ecosystem are summarized."
   ]
  },
  {
   "cell_type": "markdown",
   "id": "d312e817-afde-4c46-a125-31644cf3a5b1",
   "metadata": {},
   "source": [
    "**Objectives:**\n",
    "- List popular languagues that Data Scientists use\n",
    "- List popular libraries used by Data Scientists\n",
    "- Exemplify how to create a table\n",
    "- Exemplify how comments works in cells\n",
    "- Exemplify how arithmethic operations works in R."
   ]
  },
  {
   "cell_type": "markdown",
   "id": "89646bf9-9e5d-42fc-9040-e51d2d8e07c0",
   "metadata": {},
   "source": [
    "Some of the popular languages that Data Scientists use are:\n",
    "1. Python\n",
    "2. R\n",
    "3. Julia"
   ]
  },
  {
   "cell_type": "markdown",
   "id": "9fb0258e-e8be-48ef-bb7e-33147c186db4",
   "metadata": {},
   "source": [
    "Some of the commonly used libraries used by Data Scientists include:\n",
    "1. Pandas\n",
    "2. Numpy\n",
    "3. matplotlib\n"
   ]
  },
  {
   "cell_type": "markdown",
   "id": "c2f31bf4-82c6-4356-9a89-f6aa7821ebd8",
   "metadata": {},
   "source": [
    "|Data Science|\n",
    "|------------|\n",
    "|Rstudio|\n",
    "|ApacheSpark|\n",
    "|TensowFlow|"
   ]
  },
  {
   "cell_type": "code",
   "execution_count": 1,
   "id": "0c05fdd5-486e-41d2-866f-11cc917cdda6",
   "metadata": {
    "tags": []
   },
   "outputs": [
    {
     "data": {
      "text/plain": [
       "17"
      ]
     },
     "execution_count": 1,
     "metadata": {},
     "output_type": "execute_result"
    }
   ],
   "source": [
    "#This a simple arithmetic expression to mutiply then add integers\n",
    "(3*4)+5"
   ]
  },
  {
   "cell_type": "code",
   "execution_count": 2,
   "id": "195a0827-d1f2-4346-81de-715332083645",
   "metadata": {
    "tags": []
   },
   "outputs": [
    {
     "data": {
      "text/plain": [
       "3.3333333333333335"
      ]
     },
     "execution_count": 2,
     "metadata": {},
     "output_type": "execute_result"
    }
   ],
   "source": [
    "#This will convert 200 minutes to hours by diving by 60\n",
    "200/60"
   ]
  },
  {
   "cell_type": "markdown",
   "id": "c21cbd44-adcd-4f2a-a535-d3c47a7b631c",
   "metadata": {},
   "source": [
    "## Author:\n",
    "TENE IONUT VALENTIN"
   ]
  },
  {
   "cell_type": "code",
   "execution_count": null,
   "id": "dcca7554-9533-453f-b5ab-4d857a0faca9",
   "metadata": {},
   "outputs": [],
   "source": []
  },
  {
   "cell_type": "code",
   "execution_count": null,
   "id": "08adb2b9-db06-44e1-897c-0b75043ae5cd",
   "metadata": {},
   "outputs": [],
   "source": []
  }
 ],
 "metadata": {
  "kernelspec": {
   "display_name": "Python",
   "language": "python",
   "name": "conda-env-python-py"
  },
  "language_info": {
   "codemirror_mode": {
    "name": "ipython",
    "version": 3
   },
   "file_extension": ".py",
   "mimetype": "text/x-python",
   "name": "python",
   "nbconvert_exporter": "python",
   "pygments_lexer": "ipython3",
   "version": "3.7.12"
  }
 },
 "nbformat": 4,
 "nbformat_minor": 5
}
